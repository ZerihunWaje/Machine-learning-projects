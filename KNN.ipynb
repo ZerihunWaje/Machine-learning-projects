{
  "nbformat": 4,
  "nbformat_minor": 0,
  "metadata": {
    "colab": {
      "provenance": [],
      "include_colab_link": true
    },
    "kernelspec": {
      "name": "python3",
      "display_name": "Python 3"
    },
    "language_info": {
      "name": "python"
    }
  },
  "cells": [
    {
      "cell_type": "markdown",
      "metadata": {
        "id": "view-in-github",
        "colab_type": "text"
      },
      "source": [
        "<a href=\"https://colab.research.google.com/github/ZerihunWaje/Machine-learning-projects/blob/main/KNN.ipynb\" target=\"_parent\"><img src=\"https://colab.research.google.com/assets/colab-badge.svg\" alt=\"Open In Colab\"/></a>"
      ]
    },
    {
      "cell_type": "code",
      "execution_count": 2,
      "metadata": {
        "id": "I1jouB0LSnab",
        "colab": {
          "base_uri": "https://localhost:8080/"
        },
        "outputId": "43ea38a3-4d8e-4a2d-dd4b-e8215684c1cf"
      },
      "outputs": [
        {
          "output_type": "stream",
          "name": "stdout",
          "text": [
            "Mounted at /content/drive\n",
            "[Errno 2] No such file or directory: 'drive/MyDrive/4.KNearestNeigbors'\n",
            "/content\n",
            "\u001b[0m\u001b[01;34mdrive\u001b[0m/  \u001b[01;34msample_data\u001b[0m/\n"
          ]
        }
      ],
      "source": [
        "from google.colab import drive\n",
        "drive.mount('/content/drive')\n",
        "%cd drive/MyDrive/4.KNearestNeigbors\n",
        "%ls"
      ]
    },
    {
      "cell_type": "code",
      "source": [
        "import pandas as pd"
      ],
      "metadata": {
        "id": "ktUGx4AGTHoP"
      },
      "execution_count": 17,
      "outputs": []
    },
    {
      "cell_type": "code",
      "source": [
        "df = pd.read_csv(\"/content/drive/MyDrive/Customers.csv\")\n",
        "\n",
        "print(df)"
      ],
      "metadata": {
        "id": "0CzURDzRS1CJ",
        "colab": {
          "base_uri": "https://localhost:8080/"
        },
        "outputId": "6bedb467-c03d-4d0a-c02e-9e325e663429"
      },
      "execution_count": 18,
      "outputs": [
        {
          "output_type": "stream",
          "name": "stdout",
          "text": [
            "       Age  Income Student Credit_rating Buy_computer\n",
            "0    young    high      no          fair           no\n",
            "1    young    high      no     excellent           no\n",
            "2   middle    high      no          fair          yes\n",
            "3      old  medium      no          fair          yes\n",
            "4      old     low     yes          fair          yes\n",
            "5      old     low     yes     excellent           no\n",
            "6   middle     low     yes     excellent          yes\n",
            "7    young  medium      no          fair           no\n",
            "8    young     low     yes          fair          yes\n",
            "9      old  medium     yes          fair          yes\n",
            "10   young  medium     yes     excellent          yes\n",
            "11  middle  medium      no     excellent          yes\n",
            "12  middle    high     yes          fair          yes\n",
            "13     old  medium      no     excellent           no\n"
          ]
        }
      ]
    },
    {
      "cell_type": "code",
      "source": [
        "d_age = {'young': 0, 'middle': 1, 'old': 2}\n",
        "d_income = {'high': 0, 'medium': 1, 'low': 2}\n",
        "d_student = {'no': 0, 'yes': 1}\n",
        "d_credit_rating = {'fair': 0, 'excellent': 1}\n",
        "d_buy_computer = {'no': 0, 'yes': 1}\n",
        "\n",
        "df['Age'] = df['Age'].map(d_age)\n",
        "df['Income'] = df['Income'].map(d_income)\n",
        "df['Student'] = df['Student'].map(d_student)\n",
        "df['Credit_rating'] = df['Credit_rating'].map(d_credit_rating)\n",
        "df['Buy_computer'] = df['Buy_computer'].map(d_buy_computer)\n",
        "\n",
        "print(df)"
      ],
      "metadata": {
        "id": "vjV8HMlJTblL",
        "colab": {
          "base_uri": "https://localhost:8080/"
        },
        "outputId": "93c4e12b-c3c9-4724-c129-60269c00cc3d"
      },
      "execution_count": 7,
      "outputs": [
        {
          "output_type": "stream",
          "name": "stdout",
          "text": [
            "    Age  Income  Student  Credit_rating  Buy_computer\n",
            "0     0       0        0              0             0\n",
            "1     0       0        0              1             0\n",
            "2     1       0        0              0             1\n",
            "3     2       1        0              0             1\n",
            "4     2       2        1              0             1\n",
            "5     2       2        1              1             0\n",
            "6     1       2        1              1             1\n",
            "7     0       1        0              0             0\n",
            "8     0       2        1              0             1\n",
            "9     2       1        1              0             1\n",
            "10    0       1        1              1             1\n",
            "11    1       1        0              1             1\n",
            "12    1       0        1              0             1\n",
            "13    2       1        0              1             0\n"
          ]
        }
      ]
    },
    {
      "cell_type": "code",
      "source": [
        "features = ['Age', 'Income', 'Student', 'Credit_rating']\n",
        "data = df[features]\n",
        "classes = df['Buy_computer']"
      ],
      "metadata": {
        "id": "T2PO06A_TvKg"
      },
      "execution_count": 8,
      "outputs": []
    },
    {
      "cell_type": "code",
      "source": [
        "print(data)\n",
        "print('\\n\\n')\n",
        "print(classes)"
      ],
      "metadata": {
        "id": "MhD6tFXEXfcd",
        "colab": {
          "base_uri": "https://localhost:8080/"
        },
        "outputId": "7634fcb5-2e97-4d47-bcb1-f5f316dc8361"
      },
      "execution_count": 9,
      "outputs": [
        {
          "output_type": "stream",
          "name": "stdout",
          "text": [
            "    Age  Income  Student  Credit_rating\n",
            "0     0       0        0              0\n",
            "1     0       0        0              1\n",
            "2     1       0        0              0\n",
            "3     2       1        0              0\n",
            "4     2       2        1              0\n",
            "5     2       2        1              1\n",
            "6     1       2        1              1\n",
            "7     0       1        0              0\n",
            "8     0       2        1              0\n",
            "9     2       1        1              0\n",
            "10    0       1        1              1\n",
            "11    1       1        0              1\n",
            "12    1       0        1              0\n",
            "13    2       1        0              1\n",
            "\n",
            "\n",
            "\n",
            "0     0\n",
            "1     0\n",
            "2     1\n",
            "3     1\n",
            "4     1\n",
            "5     0\n",
            "6     1\n",
            "7     0\n",
            "8     1\n",
            "9     1\n",
            "10    1\n",
            "11    1\n",
            "12    1\n",
            "13    0\n",
            "Name: Buy_computer, dtype: int64\n"
          ]
        }
      ]
    },
    {
      "cell_type": "code",
      "source": [
        "from sklearn.neighbors import KNeighborsClassifier"
      ],
      "metadata": {
        "id": "mcBN67ZIUA4x"
      },
      "execution_count": 10,
      "outputs": []
    },
    {
      "cell_type": "code",
      "source": [
        "knn = KNeighborsClassifier(n_neighbors=1)\n",
        "\n",
        "knn.fit(data, classes)"
      ],
      "metadata": {
        "id": "dJQru6RPT-Dw",
        "colab": {
          "base_uri": "https://localhost:8080/",
          "height": 74
        },
        "outputId": "e43f6c96-2aba-4262-af7f-98c0e0282f08"
      },
      "execution_count": 11,
      "outputs": [
        {
          "output_type": "execute_result",
          "data": {
            "text/plain": [
              "KNeighborsClassifier(n_neighbors=1)"
            ],
            "text/html": [
              "<style>#sk-container-id-1 {color: black;background-color: white;}#sk-container-id-1 pre{padding: 0;}#sk-container-id-1 div.sk-toggleable {background-color: white;}#sk-container-id-1 label.sk-toggleable__label {cursor: pointer;display: block;width: 100%;margin-bottom: 0;padding: 0.3em;box-sizing: border-box;text-align: center;}#sk-container-id-1 label.sk-toggleable__label-arrow:before {content: \"▸\";float: left;margin-right: 0.25em;color: #696969;}#sk-container-id-1 label.sk-toggleable__label-arrow:hover:before {color: black;}#sk-container-id-1 div.sk-estimator:hover label.sk-toggleable__label-arrow:before {color: black;}#sk-container-id-1 div.sk-toggleable__content {max-height: 0;max-width: 0;overflow: hidden;text-align: left;background-color: #f0f8ff;}#sk-container-id-1 div.sk-toggleable__content pre {margin: 0.2em;color: black;border-radius: 0.25em;background-color: #f0f8ff;}#sk-container-id-1 input.sk-toggleable__control:checked~div.sk-toggleable__content {max-height: 200px;max-width: 100%;overflow: auto;}#sk-container-id-1 input.sk-toggleable__control:checked~label.sk-toggleable__label-arrow:before {content: \"▾\";}#sk-container-id-1 div.sk-estimator input.sk-toggleable__control:checked~label.sk-toggleable__label {background-color: #d4ebff;}#sk-container-id-1 div.sk-label input.sk-toggleable__control:checked~label.sk-toggleable__label {background-color: #d4ebff;}#sk-container-id-1 input.sk-hidden--visually {border: 0;clip: rect(1px 1px 1px 1px);clip: rect(1px, 1px, 1px, 1px);height: 1px;margin: -1px;overflow: hidden;padding: 0;position: absolute;width: 1px;}#sk-container-id-1 div.sk-estimator {font-family: monospace;background-color: #f0f8ff;border: 1px dotted black;border-radius: 0.25em;box-sizing: border-box;margin-bottom: 0.5em;}#sk-container-id-1 div.sk-estimator:hover {background-color: #d4ebff;}#sk-container-id-1 div.sk-parallel-item::after {content: \"\";width: 100%;border-bottom: 1px solid gray;flex-grow: 1;}#sk-container-id-1 div.sk-label:hover label.sk-toggleable__label {background-color: #d4ebff;}#sk-container-id-1 div.sk-serial::before {content: \"\";position: absolute;border-left: 1px solid gray;box-sizing: border-box;top: 0;bottom: 0;left: 50%;z-index: 0;}#sk-container-id-1 div.sk-serial {display: flex;flex-direction: column;align-items: center;background-color: white;padding-right: 0.2em;padding-left: 0.2em;position: relative;}#sk-container-id-1 div.sk-item {position: relative;z-index: 1;}#sk-container-id-1 div.sk-parallel {display: flex;align-items: stretch;justify-content: center;background-color: white;position: relative;}#sk-container-id-1 div.sk-item::before, #sk-container-id-1 div.sk-parallel-item::before {content: \"\";position: absolute;border-left: 1px solid gray;box-sizing: border-box;top: 0;bottom: 0;left: 50%;z-index: -1;}#sk-container-id-1 div.sk-parallel-item {display: flex;flex-direction: column;z-index: 1;position: relative;background-color: white;}#sk-container-id-1 div.sk-parallel-item:first-child::after {align-self: flex-end;width: 50%;}#sk-container-id-1 div.sk-parallel-item:last-child::after {align-self: flex-start;width: 50%;}#sk-container-id-1 div.sk-parallel-item:only-child::after {width: 0;}#sk-container-id-1 div.sk-dashed-wrapped {border: 1px dashed gray;margin: 0 0.4em 0.5em 0.4em;box-sizing: border-box;padding-bottom: 0.4em;background-color: white;}#sk-container-id-1 div.sk-label label {font-family: monospace;font-weight: bold;display: inline-block;line-height: 1.2em;}#sk-container-id-1 div.sk-label-container {text-align: center;}#sk-container-id-1 div.sk-container {/* jupyter's `normalize.less` sets `[hidden] { display: none; }` but bootstrap.min.css set `[hidden] { display: none !important; }` so we also need the `!important` here to be able to override the default hidden behavior on the sphinx rendered scikit-learn.org. See: https://github.com/scikit-learn/scikit-learn/issues/21755 */display: inline-block !important;position: relative;}#sk-container-id-1 div.sk-text-repr-fallback {display: none;}</style><div id=\"sk-container-id-1\" class=\"sk-top-container\"><div class=\"sk-text-repr-fallback\"><pre>KNeighborsClassifier(n_neighbors=1)</pre><b>In a Jupyter environment, please rerun this cell to show the HTML representation or trust the notebook. <br />On GitHub, the HTML representation is unable to render, please try loading this page with nbviewer.org.</b></div><div class=\"sk-container\" hidden><div class=\"sk-item\"><div class=\"sk-estimator sk-toggleable\"><input class=\"sk-toggleable__control sk-hidden--visually\" id=\"sk-estimator-id-1\" type=\"checkbox\" checked><label for=\"sk-estimator-id-1\" class=\"sk-toggleable__label sk-toggleable__label-arrow\">KNeighborsClassifier</label><div class=\"sk-toggleable__content\"><pre>KNeighborsClassifier(n_neighbors=1)</pre></div></div></div></div></div>"
            ]
          },
          "metadata": {},
          "execution_count": 11
        }
      ]
    },
    {
      "cell_type": "code",
      "source": [
        "df_validation = pandas.read_csv(\"/content/drive/MyDrive/validation_set.csv\")\n",
        "\n",
        "print(df_validation)"
      ],
      "metadata": {
        "id": "lhV4uLNVSqrQ",
        "colab": {
          "base_uri": "https://localhost:8080/"
        },
        "outputId": "0cfda314-3953-4cc7-9b18-35ed59f3fc8d"
      },
      "execution_count": 13,
      "outputs": [
        {
          "output_type": "stream",
          "name": "stdout",
          "text": [
            "       Age Income Student Credit_rating Buy_computer\n",
            "0      old    low     yes          fair          yes\n",
            "1      old   high      no          fair          yes\n",
            "2    young    low      no     excellent           no\n",
            "3   middle    low      no          fair           no\n",
            "4      old    low     yes     excellent           no\n",
            "5    young   high     yes     excellent          yes\n",
            "6    young   high      no          fair          yes\n",
            "7    young    low     yes          fair           no\n",
            "8   middle   high     yes     excellent           no\n",
            "9    young   high      no          fair          yes\n",
            "10     old    low      no     excellent           no\n"
          ]
        }
      ]
    },
    {
      "cell_type": "code",
      "source": [
        "df_validation['Age'] = df_validation['Age'].map(d_age)\n",
        "df_validation['Income'] = df_validation['Income'].map(d_income)\n",
        "df_validation['Student'] = df_validation['Student'].map(d_student)\n",
        "df_validation['Credit_rating'] = df_validation['Credit_rating'].map(d_credit_rating)\n",
        "\n",
        "df_validation['Buy_computer'] = df_validation['Buy_computer'].map(d_buy_computer)\n",
        "\n",
        "test_df = df_validation[features]\n",
        "\n",
        "print(test_df)"
      ],
      "metadata": {
        "colab": {
          "base_uri": "https://localhost:8080/"
        },
        "id": "HCJ9r8ogYAsX",
        "outputId": "94d17170-1223-4c67-ae20-21e592fb7512"
      },
      "execution_count": 14,
      "outputs": [
        {
          "output_type": "stream",
          "name": "stdout",
          "text": [
            "    Age  Income  Student  Credit_rating\n",
            "0     2       2        1              0\n",
            "1     2       0        0              0\n",
            "2     0       2        0              1\n",
            "3     1       2        0              0\n",
            "4     2       2        1              1\n",
            "5     0       0        1              1\n",
            "6     0       0        0              0\n",
            "7     0       2        1              0\n",
            "8     1       0        1              1\n",
            "9     0       0        0              0\n",
            "10    2       2        0              1\n"
          ]
        }
      ]
    },
    {
      "cell_type": "code",
      "source": [
        "predicted_classes = list(knn.predict(test_df))\n",
        "\n",
        "print(predicted_classes)"
      ],
      "metadata": {
        "colab": {
          "base_uri": "https://localhost:8080/"
        },
        "id": "BvmiQ6QuTIrC",
        "outputId": "c2f08a4a-d210-4b94-e21f-f12a7ddff352"
      },
      "execution_count": 15,
      "outputs": [
        {
          "output_type": "stream",
          "name": "stdout",
          "text": [
            "[1, 1, 1, 1, 0, 0, 0, 1, 1, 0, 0]\n"
          ]
        }
      ]
    },
    {
      "cell_type": "code",
      "source": [
        "actual_classes = df_validation['Buy_computer'].values.tolist()\n",
        "\n",
        "print(actual_classes)"
      ],
      "metadata": {
        "colab": {
          "base_uri": "https://localhost:8080/"
        },
        "id": "fCnPbhM5WBAS",
        "outputId": "9f1ce8a8-016a-4395-c072-314c687edccf"
      },
      "execution_count": 16,
      "outputs": [
        {
          "output_type": "stream",
          "name": "stdout",
          "text": [
            "[1, 1, 0, 0, 0, 1, 1, 0, 0, 1, 0]\n"
          ]
        }
      ]
    },
    {
      "cell_type": "code",
      "source": [
        "from sklearn import metrics\n",
        "\n",
        "confusion_matrix = metrics.confusion_matrix(actual_classes, predicted_classes)"
      ],
      "metadata": {
        "id": "oUoZk02ES_m5"
      },
      "execution_count": null,
      "outputs": []
    },
    {
      "cell_type": "code",
      "source": [
        "cm_display = metrics.ConfusionMatrixDisplay(confusion_matrix = confusion_matrix, display_labels = [False, True])"
      ],
      "metadata": {
        "id": "oywBXaLmZ0fh"
      },
      "execution_count": null,
      "outputs": []
    },
    {
      "cell_type": "code",
      "source": [
        "import matplotlib.pyplot as plt\n",
        "cm_display.plot()\n",
        "plt.show()"
      ],
      "metadata": {
        "colab": {
          "base_uri": "https://localhost:8080/",
          "height": 283
        },
        "id": "kJV3mPGUZv3u",
        "outputId": "1ef2bc47-9236-4ef1-b792-abdb91255628"
      },
      "execution_count": null,
      "outputs": [
        {
          "output_type": "display_data",
          "data": {
            "text/plain": [
              "<Figure size 432x288 with 2 Axes>"
            ],
            "image/png": "[encoded data removed]"
          },
          "metadata": {
            "needs_background": "light"
          }
        }
      ]
    },
    {
      "cell_type": "code",
      "source": [
        "Accuracy = metrics.accuracy_score(actual_classes, predicted_classes)\n",
        "print(Accuracy)"
      ],
      "metadata": {
        "colab": {
          "base_uri": "https://localhost:8080/"
        },
        "id": "jL2lauhfTxDF",
        "outputId": "69f9fc77-3918-4480-ec5d-34a43043c2ed"
      },
      "execution_count": null,
      "outputs": [
        {
          "output_type": "stream",
          "name": "stdout",
          "text": [
            "0.2727272727272727\n"
          ]
        }
      ]
    },
    {
      "cell_type": "code",
      "source": [
        "Precision = metrics.precision_score(actual_classes, predicted_classes)\n",
        "print(Precision)"
      ],
      "metadata": {
        "colab": {
          "base_uri": "https://localhost:8080/"
        },
        "id": "_SytY5opTzGB",
        "outputId": "48059ca0-c7d5-4c7d-fbf8-9d03e04e66ca"
      },
      "execution_count": null,
      "outputs": [
        {
          "output_type": "stream",
          "name": "stdout",
          "text": [
            "0.25\n"
          ]
        }
      ]
    },
    {
      "cell_type": "code",
      "source": [
        "Sensitivity_recall = metrics.recall_score(actual_classes, predicted_classes)\n",
        "print(Sensitivity_recall)"
      ],
      "metadata": {
        "colab": {
          "base_uri": "https://localhost:8080/"
        },
        "id": "D45310B_T1FE",
        "outputId": "d4507404-7ab2-44aa-a15d-3f7ab00ae31d"
      },
      "execution_count": null,
      "outputs": [
        {
          "output_type": "stream",
          "name": "stdout",
          "text": [
            "0.4\n"
          ]
        }
      ]
    },
    {
      "cell_type": "code",
      "source": [
        "Specificity = metrics.recall_score(actual_classes, predicted_classes, pos_label=0)\n",
        "print(Specificity)"
      ],
      "metadata": {
        "colab": {
          "base_uri": "https://localhost:8080/"
        },
        "id": "H-NBUV3xT3Op",
        "outputId": "dd817d8c-09f8-45a7-8a25-15c63065a8e4"
      },
      "execution_count": null,
      "outputs": [
        {
          "output_type": "stream",
          "name": "stdout",
          "text": [
            "0.0\n"
          ]
        }
      ]
    },
    {
      "cell_type": "code",
      "source": [
        "F1_score = metrics.f1_score(actual_classes, predicted_classes)\n",
        "print(F1_score)"
      ],
      "metadata": {
        "colab": {
          "base_uri": "https://localhost:8080/"
        },
        "id": "ps4r4cQnT5fy",
        "outputId": "b952b51c-27a0-48db-c7ce-d0ca272ab2f6"
      },
      "execution_count": null,
      "outputs": [
        {
          "output_type": "stream",
          "name": "stdout",
          "text": [
            "0.3333333333333333\n"
          ]
        }
      ]
    },
    {
      "cell_type": "code",
      "source": [
        "print({\"Accuracy\":Accuracy,\"Precision\":Precision,\"Sensitivity_recall\":Sensitivity_recall,\"Specificity\":Specificity,\"F1_score\":F1_score})"
      ],
      "metadata": {
        "colab": {
          "base_uri": "https://localhost:8080/"
        },
        "id": "N8liW-7uT7x5",
        "outputId": "64a78e54-0aed-48ae-ce19-5abb9ad91dae"
      },
      "execution_count": null,
      "outputs": [
        {
          "output_type": "stream",
          "name": "stdout",
          "text": [
            "{'Accuracy': 0.2727272727272727, 'Precision': 0.2857142857142857, 'Sensitivity_recall': 0.4, 'Specificity': 0.16666666666666666, 'F1_score': 0.3333333333333333}\n"
          ]
        }
      ]
    },
    {
      "cell_type": "code",
      "source": [
        "data = df.values.tolist()"
      ],
      "metadata": {
        "id": "eAf-3oUUS4e-"
      },
      "execution_count": null,
      "outputs": []
    }
  ]
}